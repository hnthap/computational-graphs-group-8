{
 "cells": [
  {
   "attachments": {},
   "cell_type": "markdown",
   "metadata": {},
   "source": [
    "# Computational Graphs &mdash; Gradient Descent Demo"
   ]
  },
  {
   "cell_type": "code",
   "execution_count": 1,
   "metadata": {},
   "outputs": [],
   "source": [
    "import math\n",
    "import torch\n",
    "import pandas as pd"
   ]
  },
  {
   "cell_type": "code",
   "execution_count": 2,
   "metadata": {},
   "outputs": [
    {
     "name": "stdout",
     "output_type": "stream",
     "text": [
      "Current device: cpu\n"
     ]
    }
   ],
   "source": [
    "dtype = torch.float\n",
    "\n",
    "device = torch.device('cuda' if torch.cuda.is_available() else 'cpu')\n",
    "print('Current device:', device)\n",
    "if device.type == 'cuda':\n",
    "    print('Current device name:', torch.cuda.get_device_name())\n",
    "    print('CUDA device count:', torch.cuda.device_count())"
   ]
  },
  {
   "cell_type": "code",
   "execution_count": 3,
   "metadata": {},
   "outputs": [],
   "source": [
    "# Some parts are based on \n",
    "# https://stackoverflow.com/questions/75610911/how-to-use-mermaid-diagram-in-jupyter-notebook-with-mermaid-ink-through-proxy\n",
    "\n",
    "import base64\n",
    "from IPython import display\n",
    "\n",
    "def mermaid(graph: str):\n",
    "    graph_bytes = graph.encode('ascii')\n",
    "    base64_bytes = base64.b64encode(graph_bytes)\n",
    "    base64_string = base64_bytes.decode('ascii')\n",
    "    display.display(\n",
    "        display.Image(\n",
    "            url='https://mermaid.ink/img/' + base64_string\n",
    "        )\n",
    "    )"
   ]
  },
  {
   "cell_type": "code",
   "execution_count": 4,
   "metadata": {},
   "outputs": [],
   "source": [
    "# For saving results in the future in order to visualize\n",
    "\n",
    "results = {}\n",
    "for name in ('a', 'b', 'c'):\n",
    "    results[name] = []\n",
    "\n",
    "def save_result(a: torch.Tensor, b: torch.Tensor, c: torch.Tensor):\n",
    "    results['a'].append(a.item())\n",
    "    results['b'].append(b.item())\n",
    "    results['c'].append(c.item())"
   ]
  },
  {
   "attachments": {},
   "cell_type": "markdown",
   "metadata": {},
   "source": [
    "We will fit $y = \\sin x$, where $x \\in [0, \\pi / 2]$, with the quadratic polynomial $y = a + bx + cx^2$. There will be three parameters $a$, $b$, $c$ trained with gradient descent."
   ]
  },
  {
   "cell_type": "code",
   "execution_count": 5,
   "metadata": {},
   "outputs": [],
   "source": [
    "# Create input and output data\n",
    "x = torch.linspace(0, math.pi / 2, 2000, \\\n",
    "                   dtype=dtype, device=device)\n",
    "x_indices = torch.randperm(2000, device=device)\n",
    "x = x[x_indices].reshape(-1, 1)\n",
    "\n",
    "y = torch.sin(x)"
   ]
  },
  {
   "attachments": {},
   "cell_type": "markdown",
   "metadata": {},
   "source": [
    "### Computational Graph from scratch (Batch Gradient Descent)"
   ]
  },
  {
   "attachments": {},
   "cell_type": "markdown",
   "metadata": {},
   "source": [
    "Let $a$, $b$, $c$ are weights as scalars; <br/>\n",
    "$\\textrm{x}$ is a vector of a finite number of values of $x \\in [0, \\pi / 2]$; <br/>\n",
    "$\\textrm{y}$, $\\textrm{t}$, $\\textrm{j}$ are vectors that have the same size as $\\textrm{x}$, <br/>\n",
    "and $y_i = \\sin x_i,\\; t_i = x_i^2,\\; j_i = 1$ (Each of $y_i$, $t_i$, $j_i$ is the $i$-th element of $\\textrm{y}$, $\\textrm{t}$, $\\textrm{j}$, respectively), we have\n",
    "\n",
    "$$\\textrm{y}_{pred} = a\\;\\textrm{j} + b\\;\\textrm{x} + c\\;\\textrm{t}\\;, \\quad \n",
    "J = (\\textrm{y}_{pred} - \\textrm{y})^\\top (\\textrm{y}_{pred} - \\textrm{y})$$\n",
    "\n",
    "and\n",
    "$$\\frac{\\partial{J}}{\\partial{\\textrm{y}_{pred}}} = 2 (\\textrm{y}_{pred} - \\textrm{y})^\\top\\;, \\quad\n",
    "\\frac{\\partial{\\textrm{y}_{pred}}}{\\partial{a}} = \\textrm{j}\\;, \\quad \n",
    "\\frac{\\partial{\\textrm{y}_{pred}}}{\\partial{b}} = \\textrm{x}\\;, \\quad \n",
    "\\frac{\\partial{\\textrm{y}_{pred}}}{\\partial{c}} = \\textrm{t}\\;.$$"
   ]
  },
  {
   "cell_type": "code",
   "execution_count": 6,
   "metadata": {},
   "outputs": [
    {
     "data": {
      "text/html": [
       "<img src=\"https://mermaid.ink/img/Z3JhcGggVEQ7CiAgICB4IC0tPiB0OwogICAgYSAtLT4gYWo7CiAgICBqIC0tPiBhajsKICAgIGIgLS0+IGJ4OwogICAgeCAtLT4gYng7CiAgICBjIC0tPiBjdDsKICAgIHQgLS0+IGN0OwogICAgYWogLS0+IHlfcHJlZDsKICAgIGJ4IC0tPiB5X3ByZWQ7CiAgICBjdCAtLT4geV9wcmVkOwogICAgeV9wcmVkIC0tPiBkaWZmOwogICAgeSAtLT4gZGlmZjsKICAgIGRpZmYgLS0+IGRpZmZfVDsKICAgIGRpZmYgLS0+IEo7CiAgICBkaWZmX1QgLS0+IEo7Cg==\"/>"
      ],
      "text/plain": [
       "<IPython.core.display.Image object>"
      ]
     },
     "metadata": {},
     "output_type": "display_data"
    }
   ],
   "source": [
    "# To draw the diagram, Internet connection is required\n",
    "mermaid(\"\"\"graph TD;\n",
    "    x --> t;\n",
    "    a --> aj;\n",
    "    j --> aj;\n",
    "    b --> bx;\n",
    "    x --> bx;\n",
    "    c --> ct;\n",
    "    t --> ct;\n",
    "    aj --> y_pred;\n",
    "    bx --> y_pred;\n",
    "    ct --> y_pred;\n",
    "    y_pred --> diff;\n",
    "    y --> diff;\n",
    "    diff --> diff_T;\n",
    "    diff --> J;\n",
    "    diff_T --> J;\n",
    "\"\"\")"
   ]
  },
  {
   "cell_type": "code",
   "execution_count": 7,
   "metadata": {},
   "outputs": [
    {
     "name": "stdout",
     "output_type": "stream",
     "text": [
      "Iter. 99: loss = 14.0938\n",
      "Iter. 199: loss = 6.975\n",
      "Iter. 299: loss = 3.4882\n",
      "Iter. 399: loss = 1.7804\n",
      "Iter. 499: loss = 0.9439\n",
      "Iter. 599: loss = 0.5342\n",
      "Iter. 699: loss = 0.3336\n",
      "Iter. 799: loss = 0.2353\n",
      "Iter. 899: loss = 0.1871\n",
      "Iter. 999: loss = 0.1636\n",
      "Iter. 1099: loss = 0.152\n",
      "Iter. 1199: loss = 0.1464\n",
      "Iter. 1299: loss = 0.1436\n",
      "Iter. 1399: loss = 0.1422\n",
      "Iter. 1499: loss = 0.1416\n",
      "Iter. 1599: loss = 0.1412\n",
      "Iter. 1699: loss = 0.1411\n",
      "Iter. 1799: loss = 0.141\n",
      "Iter. 1899: loss = 0.141\n",
      "Iter. 1999: loss = 0.1409\n",
      "Result: y = -0.02404150739312172 + 1.1948471069335938 x + -0.33772310614585876 x^2\n"
     ]
    }
   ],
   "source": [
    "t = x * x\n",
    "j = torch.ones(x.shape)\n",
    "\n",
    "# Initialize weights\n",
    "a = torch.randn((), dtype=dtype, device=device)\n",
    "b = torch.randn((), dtype=dtype, device=device)\n",
    "c = torch.randn((), dtype=dtype, device=device)\n",
    "\n",
    "learning_rate = 1e-4\n",
    "for iter in range(2000):\n",
    "    \n",
    "    # Forward pass: compute predicted y and loss J\n",
    "    y_pred = a * j + b * x + c * t\n",
    "    loss = (y_pred - y).T.mm(y_pred - y)\n",
    "\n",
    "    # Backprop to compute gradients of a, b, c with respect to loss J\n",
    "    grad_y_pred = 2 * (y_pred - y).T\n",
    "    grad_a = grad_y_pred.mm(j).item()\n",
    "    grad_b = grad_y_pred.mm(x).item()\n",
    "    grad_c = grad_y_pred.mm(t).item()\n",
    "\n",
    "    # Update weights\n",
    "    a -= learning_rate * grad_a\n",
    "    b -= learning_rate * grad_b\n",
    "    c -= learning_rate * grad_c\n",
    "\n",
    "    # Print loss\n",
    "    if iter % 100 == 99:\n",
    "        print(f'Iter. {iter}: loss = {round(loss.item(), 4)}')\n",
    "\n",
    "print(f'Result: y = {a.item()} + {b.item()} x + {c.item()} x^2')\n",
    "\n",
    "# Save result\n",
    "save_result(a, b, c)"
   ]
  },
  {
   "attachments": {},
   "cell_type": "markdown",
   "metadata": {},
   "source": [
    "### Computational Graph with PyTorch (Mini Batch Gradient Descent)"
   ]
  },
  {
   "cell_type": "code",
   "execution_count": 8,
   "metadata": {},
   "outputs": [
    {
     "name": "stdout",
     "output_type": "stream",
     "text": [
      "Iter. 9: loss = 0.21922622621059418\n",
      "Iter. 19: loss = 0.10998009145259857\n",
      "Iter. 29: loss = 0.055784422904253006\n",
      "Iter. 39: loss = 0.028758935630321503\n",
      "Iter. 49: loss = 0.015184317715466022\n",
      "Iter. 59: loss = 0.00829878356307745\n",
      "Iter. 69: loss = 0.004760358016937971\n",
      "Iter. 79: loss = 0.0029110084287822247\n",
      "Iter. 89: loss = 0.001923794625326991\n",
      "Iter. 99: loss = 0.0013832858530804515\n",
      "Iter. 109: loss = 0.001078620902262628\n",
      "Iter. 119: loss = 0.0009014721726998687\n",
      "Iter. 129: loss = 0.0007951435982249677\n",
      "Iter. 139: loss = 0.0007293793023563921\n",
      "Iter. 149: loss = 0.0006875919061712921\n",
      "Result: y = -0.021027691662311554 + 1.185593605041504 x + -0.33166050910949707 x^2\n"
     ]
    }
   ],
   "source": [
    "# Initialize weights\n",
    "a = torch.randn((), dtype=dtype, device=device, requires_grad=True)\n",
    "b = torch.randn((), dtype=dtype, device=device, requires_grad=True)\n",
    "c = torch.randn((), dtype=dtype, device=device, requires_grad=True)\n",
    "\n",
    "# Initialize optimizer\n",
    "optimizer = torch.optim.SGD([a, b, c], lr=1e-3)\n",
    "\n",
    "# Split into batches\n",
    "inputs = torch.split(x, 10)\n",
    "targets = torch.split(y, 10)\n",
    "\n",
    "for iter in range(150):\n",
    "\n",
    "    for input, target in zip(inputs, targets):\n",
    "\n",
    "        # Set gradients to zero\n",
    "        optimizer.zero_grad()\n",
    "\n",
    "        # Forward pass: Compute the predicted y and loss J\n",
    "        y_pred = a + b * input + c * input ** 2\n",
    "        y_diff = y_pred - target\n",
    "        loss = y_diff.T.mm(y_diff)\n",
    "\n",
    "        # Backprop to compute gradients of a, b, c with respect to loss\n",
    "        loss.backward()\n",
    "\n",
    "        # Optimizer does its job\n",
    "        optimizer.step()\n",
    "        \n",
    "    # Print loss\n",
    "    if iter % 10 == 9:\n",
    "        print(f'Iter. {iter}: loss = {loss.item()}')\n",
    "\n",
    "print(f'Result: y = {a.item()} + {b.item()} x + {c.item()} x^2')\n",
    "\n",
    "# Save result\n",
    "save_result(a, b, c)"
   ]
  },
  {
   "attachments": {},
   "cell_type": "markdown",
   "metadata": {},
   "source": [
    "### Without Any Computational Graph (Batch Gradient Descent)"
   ]
  },
  {
   "attachments": {},
   "cell_type": "markdown",
   "metadata": {},
   "source": [
    "$$y_{pred} = a + bx + cx^2\\;, \\quad J = \\sum_{x} {(y_{pred} - y)^2}$$\n",
    "$$\\frac{\\partial{J}}{\\partial{a}} = 2 \\sum_{x} (y_{pred} - y)\\;, \\quad \n",
    "\\frac{\\partial{J}}{\\partial{b}} = 2 \\sum_{x} (y_{pred} - y)x\\;, \\quad \n",
    "\\frac{\\partial{J}}{\\partial{c}} = 2 \\sum_{x} (y_{pred} - y)x^2$$"
   ]
  },
  {
   "cell_type": "code",
   "execution_count": 9,
   "metadata": {},
   "outputs": [
    {
     "name": "stdout",
     "output_type": "stream",
     "text": [
      "Iter. 99: loss = 0.1498\n",
      "Iter. 199: loss = 0.1453\n",
      "Iter. 299: loss = 0.1431\n",
      "Iter. 399: loss = 0.142\n",
      "Iter. 499: loss = 0.1414\n",
      "Iter. 599: loss = 0.1412\n",
      "Iter. 699: loss = 0.141\n",
      "Iter. 799: loss = 0.141\n",
      "Iter. 899: loss = 0.141\n",
      "Iter. 999: loss = 0.1409\n",
      "Iter. 1099: loss = 0.1409\n",
      "Iter. 1199: loss = 0.1409\n",
      "Iter. 1299: loss = 0.1409\n",
      "Iter. 1399: loss = 0.1409\n",
      "Iter. 1499: loss = 0.1409\n",
      "Iter. 1599: loss = 0.1409\n",
      "Iter. 1699: loss = 0.1409\n",
      "Iter. 1799: loss = 0.1409\n",
      "Iter. 1899: loss = 0.1409\n",
      "Iter. 1999: loss = 0.1409\n",
      "Result: y = -0.024290649220347404 + 1.19569993019104 x + -0.3382371962070465 x^2\n"
     ]
    }
   ],
   "source": [
    "# Some parts are based on https://pytorch.org/tutorials/beginner/pytorch_with_examples.html\n",
    "\n",
    "# Initialize weights\n",
    "a = torch.randn((), dtype=dtype, device=device)\n",
    "b = torch.randn((), dtype=dtype, device=device)\n",
    "c = torch.randn((), dtype=dtype, device=device)\n",
    "\n",
    "learning_rate = 1e-4\n",
    "for iter in range(2000):    \n",
    "    \n",
    "    # Forward pass: compute predicted y\n",
    "    y_pred = a + b * x + c * x ** 2\n",
    "\n",
    "    # Compute and print loss\n",
    "    loss = (y_pred - y).pow(2).sum().item()\n",
    "    if iter % 100 == 99:\n",
    "        print(f'Iter. {iter}: loss = {round(loss, 4)}')\n",
    "    \n",
    "    # Backpropagation to compute gradients of a, b, c with respect to loss\n",
    "    grad_y_pred = 2.0 * (y_pred - y)\n",
    "    grad_a = grad_y_pred.sum()\n",
    "    grad_b = (grad_y_pred * x).sum()\n",
    "    grad_c = (grad_y_pred * x ** 2).sum()\n",
    "\n",
    "    # Update weights using gradient descent\n",
    "    a -= learning_rate * grad_a\n",
    "    b -= learning_rate * grad_b\n",
    "    c -= learning_rate * grad_c\n",
    "\n",
    "print(f'Result: y = {a.item()} + {b.item()} x + {c.item()} x^2')\n",
    "\n",
    "# Save result\n",
    "save_result(a, b, c)"
   ]
  },
  {
   "attachments": {},
   "cell_type": "markdown",
   "metadata": {},
   "source": [
    "### Visualization"
   ]
  },
  {
   "cell_type": "code",
   "execution_count": 10,
   "metadata": {},
   "outputs": [
    {
     "name": "stdout",
     "output_type": "stream",
     "text": [
      "          x         y  y CG BGD  y CG MBGD     y BGD\n",
      "0  1.022314  0.853317  0.844504   0.844394  0.844590\n",
      "1  0.528052  0.503851  0.512729   0.512547  0.512787\n",
      "2  0.843940  0.747267  0.743799   0.743322  0.743904\n",
      "3  0.093509  0.093373  0.084735   0.086936  0.084561\n",
      "4  0.614489  0.576541  0.582655   0.582272  0.582736\n"
     ]
    },
    {
     "data": {
      "text/plain": [
       "<Axes: xlabel='x', ylabel='y'>"
      ]
     },
     "execution_count": 10,
     "metadata": {},
     "output_type": "execute_result"
    },
    {
     "data": {
      "image/png": "[encoded data removed]",
      "text/plain": [
       "<Figure size 640x480 with 1 Axes>"
      ]
     },
     "metadata": {},
     "output_type": "display_data"
    }
   ],
   "source": [
    "import seaborn as sns\n",
    "sns.set_theme(style='ticks')\n",
    "\n",
    "def model(a, b, c, input):\n",
    "    return a + b * input + c * input ** 2\n",
    "\n",
    "x = x.reshape(-1)\n",
    "y = x.sin()\n",
    "df = torch.stack((\n",
    "    x,\n",
    "    y,\n",
    "    model(results['a'][0], results['b'][0], results['c'][0], x),\n",
    "    model(results['a'][1], results['b'][1], results['c'][1], x),\n",
    "    model(results['a'][2], results['b'][2], results['c'][2], x)\n",
    ")).t().numpy()\n",
    "df = pd.DataFrame(df, columns=['x', 'y', 'y CG BGD', 'y CG MBGD', 'y BGD'])\n",
    "\n",
    "print(df.head())\n",
    "\n",
    "sns.lineplot(data=df, x='x', y='y', color='blue')\n",
    "sns.lineplot(data=df, x='x', y='y CG BGD', color='green')\n",
    "sns.lineplot(data=df, x='x', y='y CG MBGD', color='purple')\n",
    "sns.lineplot(data=df, x='x', y='y BGD', color='red')"
   ]
  },
  {
   "attachments": {},
   "cell_type": "markdown",
   "metadata": {},
   "source": [
    "In the plot above,\n",
    "- The blue curve: Actual values of $\\sin x$\n",
    "- The green curve: Predicted y using Computational Graph (Batch Gradient Descent)\n",
    "- The purple curve: Predicted y using Computational Graph (Stochastic Gradient Descent)\n",
    "- The red curve: Predicted y using Batch Gradient Descent only\n",
    "\n",
    "We can see that the last three curves are almost the same and we just see the red curve."
   ]
  },
  {
   "cell_type": "code",
   "execution_count": 11,
   "metadata": {},
   "outputs": [
    {
     "name": "stdout",
     "output_type": "stream",
     "text": [
      "          x         y  y CG BGD  y CG MBGD     y BGD\n",
      "0  1.001098  0.842064  0.833652   0.833478  0.833742\n",
      "1  1.005027  0.844176  0.835685   0.835522  0.835774\n",
      "2  1.004241  0.843755  0.835279   0.835114  0.835368\n",
      "3  1.008956  0.846276  0.837707   0.837556  0.837795\n",
      "4  1.009742  0.846694  0.838110   0.837962  0.838198\n"
     ]
    },
    {
     "data": {
      "text/plain": [
       "<Axes: xlabel='x', ylabel='y'>"
      ]
     },
     "execution_count": 11,
     "metadata": {},
     "output_type": "execute_result"
    },
    {
     "data": {
      "image/png": "[encoded data removed]",
      "text/plain": [
       "<Figure size 640x480 with 1 Axes>"
      ]
     },
     "metadata": {},
     "output_type": "display_data"
    }
   ],
   "source": [
    "mask = (x > 1.0) & (x < 1.01)\n",
    "x_zoom = x[mask]\n",
    "\n",
    "df = torch.stack((\n",
    "    x_zoom,\n",
    "    x_zoom.sin(),\n",
    "    model(results['a'][0], results['b'][0], results['c'][0], x_zoom),\n",
    "    model(results['a'][1], results['b'][1], results['c'][1], x_zoom),\n",
    "    model(results['a'][2], results['b'][2], results['c'][2], x_zoom)\n",
    ")).t().numpy()\n",
    "df = pd.DataFrame(df, columns=['x', 'y', 'y CG BGD', 'y CG MBGD', 'y BGD'])\n",
    "\n",
    "print(df.head())\n",
    "\n",
    "sns.lineplot(data=df, x='x', y='y', color='blue')\n",
    "sns.lineplot(data=df, x='x', y='y CG BGD', color='green')\n",
    "sns.lineplot(data=df, x='x', y='y CG MBGD', color='purple')\n",
    "sns.lineplot(data=df, x='x', y='y BGD', color='red')"
   ]
  },
  {
   "attachments": {},
   "cell_type": "markdown",
   "metadata": {},
   "source": [
    "With $x \\in (1.0, 1.01)$, we can see the difference between them more clearly."
   ]
  }
 ],
 "metadata": {
  "kernelspec": {
   "display_name": "Python 3",
   "language": "python",
   "name": "python3"
  },
  "language_info": {
   "codemirror_mode": {
    "name": "ipython",
    "version": 3
   },
   "file_extension": ".py",
   "mimetype": "text/x-python",
   "name": "python",
   "nbconvert_exporter": "python",
   "pygments_lexer": "ipython3",
   "version": "3.10.10"
  },
  "orig_nbformat": 4
 },
 "nbformat": 4,
 "nbformat_minor": 2
}
