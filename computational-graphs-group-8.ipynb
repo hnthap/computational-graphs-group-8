{
 "cells": [
  {
   "attachments": {},
   "cell_type": "markdown",
   "metadata": {},
   "source": [
    "# Computational Graphs &mdash; A Demo Application"
   ]
  },
  {
   "cell_type": "code",
   "execution_count": 130,
   "metadata": {},
   "outputs": [],
   "source": [
    "import torch\n",
    "import math"
   ]
  },
  {
   "cell_type": "code",
   "execution_count": 131,
   "metadata": {},
   "outputs": [
    {
     "name": "stdout",
     "output_type": "stream",
     "text": [
      "Current device: cpu\n"
     ]
    }
   ],
   "source": [
    "dtype = torch.float\n",
    "\n",
    "device = torch.device('cuda' if torch.cuda.is_available() else 'cpu')\n",
    "print('Current device:', device)\n",
    "if device.type == 'cuda':\n",
    "    print('Current device name:', torch.cuda.get_device_name())\n",
    "    print('CUDA device count:', torch.cuda.device_count())"
   ]
  },
  {
   "cell_type": "code",
   "execution_count": 132,
   "metadata": {},
   "outputs": [],
   "source": [
    "# Some parts are based on \n",
    "# https://stackoverflow.com/questions/75610911/how-to-use-mermaid-diagram-in-jupyter-notebook-with-mermaid-ink-through-proxy\n",
    "\n",
    "import base64\n",
    "from IPython.display import Image, display\n",
    "\n",
    "def mermaid(graph: str):\n",
    "    graph_bytes = graph.encode(\"ascii\")\n",
    "    base64_bytes = base64.b64encode(graph_bytes)\n",
    "    base64_string = base64_bytes.decode(\"ascii\")\n",
    "    display(Image(url=\"https://mermaid.ink/img/\" + base64_string))"
   ]
  },
  {
   "attachments": {},
   "cell_type": "markdown",
   "metadata": {},
   "source": [
    "## $\\sin x$"
   ]
  },
  {
   "cell_type": "code",
   "execution_count": 133,
   "metadata": {},
   "outputs": [],
   "source": [
    "# Create input and output data\n",
    "x = torch.linspace(0, math.pi / 2, 2000, \\\n",
    "                   dtype=dtype, device=device)\n",
    "x_indices = torch.randperm(2000, device=device)\n",
    "x = x[x_indices]"
   ]
  },
  {
   "attachments": {},
   "cell_type": "markdown",
   "metadata": {},
   "source": [
    "### Computational Graph"
   ]
  },
  {
   "attachments": {},
   "cell_type": "markdown",
   "metadata": {},
   "source": [
    "We will fit $y = \\sin x$, where $x \\in [0, \\pi / 2]$, with the quadratic polynomial $y = a + bx + cx^2$. There will be three parameters $a$, $b$, $c$ trained with gradient descent.\n",
    "\n",
    "Let $a$, $b$, $c$ are weights as scalars; <br/>\n",
    "$\\textrm{x}$ is a vector of a finite number of values of $x \\in [0, \\pi / 2]$; <br/>\n",
    "$\\textrm{y}$ is a vector that has the same size as $\\textrm{x}$, and $y_i = \\sin x_i$ ($y_i$ is the $i$-th element of $\\textrm{y}$); <br/>\n",
    "$\\textrm{t}$ is a vector that has the same size as $\\textrm{x}$, and $t_i = x_i^2$ ($t_i$ is the $i$-th element of $\\textrm{t}$); <br/>\n",
    "$\\textrm{j}$ is a vector that has the same size as $\\textrm{x}$, and $j_i = 1$ ($j_i$ is the $i$-th element of $\\textrm{j}$); <br/>\n",
    "we have\n",
    "\n",
    "$$\\textrm{y}_{pred} = a\\;\\textrm{j} + b\\;\\textrm{x} + c\\;\\textrm{t}\\;, \\quad \n",
    "J = (\\textrm{y}_{pred} - \\textrm{y})^\\top (\\textrm{y}_{pred} - \\textrm{y})$$\n",
    "\n",
    "and\n",
    "$$\\frac{\\partial{J}}{\\partial{\\textrm{y}_{pred}}} = 2 (\\textrm{y}_{pred} - \\textrm{y})^\\top\\;, \\quad\n",
    "\\frac{\\partial{\\textrm{y}_{pred}}}{\\partial{a}} = \\textrm{j}\\;, \\quad \n",
    "\\frac{\\partial{\\textrm{y}_{pred}}}{\\partial{b}} = \\textrm{x}\\;, \\quad \n",
    "\\frac{\\partial{\\textrm{y}_{pred}}}{\\partial{c}} = \\textrm{t}\\;.$$"
   ]
  },
  {
   "cell_type": "code",
   "execution_count": 134,
   "metadata": {},
   "outputs": [
    {
     "data": {
      "text/html": [
       "<img src=\"https://mermaid.ink/img/Z3JhcGggVEQ7CiAgICB4IC0tPiB0OwogICAgeCAtLT4geV9wcmVkOwogICAgdCAtLT4geV9wcmVkOwogICAgYSAtLT4geV9wcmVkOwogICAgYiAtLT4geV9wcmVkOwogICAgYyAtLT4geV9wcmVkOwogICAgeV9wcmVkIC0tPiBKOwogICAgeSAtLT4gSjsK\"/>"
      ],
      "text/plain": [
       "<IPython.core.display.Image object>"
      ]
     },
     "metadata": {},
     "output_type": "display_data"
    }
   ],
   "source": [
    "mermaid(\"\"\"graph TD;\n",
    "    x --> t;\n",
    "    x --> y_pred;\n",
    "    t --> y_pred;\n",
    "    a --> y_pred;\n",
    "    b --> y_pred;\n",
    "    c --> y_pred;\n",
    "    y_pred --> J;\n",
    "    y --> J;\n",
    "\"\"\")"
   ]
  },
  {
   "cell_type": "code",
   "execution_count": 135,
   "metadata": {},
   "outputs": [
    {
     "name": "stdout",
     "output_type": "stream",
     "text": [
      "Iter. 99: loss = 12.045\n",
      "Iter. 199: loss = 5.9715\n",
      "Iter. 299: loss = 2.9967\n",
      "Iter. 399: loss = 1.5397\n",
      "Iter. 499: loss = 0.826\n",
      "Iter. 599: loss = 0.4765\n",
      "Iter. 699: loss = 0.3053\n",
      "Iter. 799: loss = 0.2214\n",
      "Iter. 899: loss = 0.1804\n",
      "Iter. 999: loss = 0.1602\n",
      "Iter. 1099: loss = 0.1504\n",
      "Iter. 1199: loss = 0.1456\n",
      "Iter. 1299: loss = 0.1432\n",
      "Iter. 1399: loss = 0.142\n",
      "Iter. 1499: loss = 0.1415\n",
      "Iter. 1599: loss = 0.1412\n",
      "Iter. 1699: loss = 0.1411\n",
      "Iter. 1799: loss = 0.141\n",
      "Iter. 1899: loss = 0.141\n",
      "Iter. 1999: loss = 0.1409\n",
      "Result: y = -0.024060139432549477 + 1.1949108839035034 x + -0.33776161074638367 x^2\n"
     ]
    }
   ],
   "source": [
    "x = x.reshape(-1, 1)\n",
    "y = torch.sin(x)\n",
    "t = x * x\n",
    "j = torch.ones(x.shape)\n",
    "\n",
    "# Initialize weights\n",
    "a = torch.randn((), dtype=dtype, device=device)\n",
    "b = torch.randn((), dtype=dtype, device=device)\n",
    "c = torch.randn((), dtype=dtype, device=device)\n",
    "\n",
    "learning_rate = 1e-4\n",
    "for iter in range(2000):\n",
    "    \n",
    "    # Forward pass: compute predicted y and loss J\n",
    "    y_pred = a * j + b * x + c * t\n",
    "    J = (y_pred - y).T.mm(y_pred - y)\n",
    "\n",
    "    # Backprop to compute gradients of a, b, c with respect to loss J\n",
    "    grad_y_pred = 2 * (y_pred - y).T\n",
    "    grad_a = grad_y_pred.mm(j).item()\n",
    "    grad_b = grad_y_pred.mm(x).item()\n",
    "    grad_c = grad_y_pred.mm(t).item()\n",
    "\n",
    "    # Update weights\n",
    "    a -= learning_rate * grad_a\n",
    "    b -= learning_rate * grad_b\n",
    "    c -= learning_rate * grad_c\n",
    "\n",
    "    # Print loss\n",
    "    if iter % 100 == 99:\n",
    "        print(f'Iter. {iter}: loss = {round(J.item(), 4)}')\n",
    "\n",
    "print(f'Result: y = {a.item()} + {b.item()} x + {c.item()} x^2')"
   ]
  },
  {
   "attachments": {},
   "cell_type": "markdown",
   "metadata": {},
   "source": [
    "### Gradient Descent"
   ]
  },
  {
   "attachments": {},
   "cell_type": "markdown",
   "metadata": {},
   "source": [
    "\n",
    "This is what the math looks like if we just use gradient descent:\n",
    "$$y_{pred} = a + bx + cx^2$$\n",
    "$$J = \\sum_{x} {(y_{pred} - y)^2}$$\n",
    "$$\\frac{\\partial{J}}{\\partial{a}} = 2 \\sum_{x} (y_{pred} - y) \\;\\frac{\\partial{}}{\\partial{a}}(a + bx + cx^2 - y) = 2 \\sum_{x} (y_{pred} - y)$$\n",
    "$$\\frac{\\partial{J}}{\\partial{b}} = 2 \\sum_{x} (y_{pred} - y) \\;\\frac{\\partial{}}{\\partial{b}}(a + bx + cx^2 - y) = 2 \\sum_{x} (y_{pred} - y)x$$\n",
    "$$\\frac{\\partial{J}}{\\partial{c}} = 2 \\sum_{x} (y_{pred} - y) \\;\\frac{\\partial{}}{\\partial{c}}(a + bx + cx^2 - y) = 2 \\sum_{x} (y_{pred} - y)x^2$$"
   ]
  },
  {
   "cell_type": "code",
   "execution_count": 136,
   "metadata": {},
   "outputs": [
    {
     "name": "stdout",
     "output_type": "stream",
     "text": [
      "Iter. 99: loss = 66.4674\n",
      "Iter. 199: loss = 32.6273\n",
      "Iter. 299: loss = 16.0526\n",
      "Iter. 399: loss = 7.9344\n",
      "Iter. 499: loss = 3.9581\n",
      "Iter. 599: loss = 2.0106\n",
      "Iter. 699: loss = 1.0567\n",
      "Iter. 799: loss = 0.5895\n",
      "Iter. 899: loss = 0.3606\n",
      "Iter. 999: loss = 0.2485\n",
      "Iter. 1099: loss = 0.1936\n",
      "Iter. 1199: loss = 0.1667\n",
      "Iter. 1299: loss = 0.1536\n",
      "Iter. 1399: loss = 0.1471\n",
      "Iter. 1499: loss = 0.144\n",
      "Iter. 1599: loss = 0.1424\n",
      "Iter. 1699: loss = 0.1417\n",
      "Iter. 1799: loss = 0.1413\n",
      "Iter. 1899: loss = 0.1411\n",
      "Iter. 1999: loss = 0.141\n",
      "Result: y = -0.023754866793751717 + 1.1938657760620117 x + -0.33713164925575256 x^2\n"
     ]
    }
   ],
   "source": [
    "# Some parts are based on https://pytorch.org/tutorials/beginner/pytorch_with_examples.html\n",
    "\n",
    "y = torch.sin(x)\n",
    "\n",
    "# Initialize weights\n",
    "a = torch.randn((), dtype=dtype, device=device)\n",
    "b = torch.randn((), dtype=dtype, device=device)\n",
    "c = torch.randn((), dtype=dtype, device=device)\n",
    "\n",
    "learning_rate = 1e-4\n",
    "for iter in range(2000):    \n",
    "    \n",
    "    # Forward pass: compute predicted y\n",
    "    y_pred_2 = a + b * x + c * x ** 2\n",
    "\n",
    "    # Compute and print loss\n",
    "    loss = (y_pred_2 - y).pow(2).sum().item()\n",
    "    if iter % 100 == 99:\n",
    "        print(f'Iter. {iter}: loss = {round(loss, 4)}')\n",
    "    \n",
    "    # Backpropagation to compute gradients of a, b, c with respect to loss\n",
    "    grad_loss = 2.0 * (y_pred_2 - y)\n",
    "    grad_a = grad_loss.sum()\n",
    "    grad_b = (grad_loss * x).sum()\n",
    "    grad_c = (grad_loss * x ** 2).sum()\n",
    "\n",
    "    # Update weights using gradient descent\n",
    "    a -= learning_rate * grad_a\n",
    "    b -= learning_rate * grad_b\n",
    "    c -= learning_rate * grad_c\n",
    "\n",
    "print(f'Result: y = {a.item()} + {b.item()} x + {c.item()} x^2')\n"
   ]
  },
  {
   "attachments": {},
   "cell_type": "markdown",
   "metadata": {},
   "source": [
    "### Visualization"
   ]
  },
  {
   "cell_type": "code",
   "execution_count": 141,
   "metadata": {},
   "outputs": [
    {
     "name": "stdout",
     "output_type": "stream",
     "text": [
      "          x         y  y_pred (CG)  y_pred (GD)\n",
      "0  0.221593  0.219784     0.224139     0.224244\n",
      "1  0.320603  0.315139     0.324314     0.324350\n",
      "2  0.117083  0.116816     0.111214     0.111406\n",
      "3  0.984596  0.833049     0.825008     0.824895\n",
      "4  1.116609  0.898618     0.889062     0.888985\n"
     ]
    },
    {
     "name": "stderr",
     "output_type": "stream",
     "text": [
      "C:\\Users\\C15TQK\\AppData\\Local\\Temp\\ipykernel_3968\\1627016959.py:12: UserWarning: Ignoring `palette` because no `hue` variable has been assigned.\n",
      "  sns.lineplot(data=df, x='x', y='y', palette='blue')\n",
      "C:\\Users\\C15TQK\\AppData\\Local\\Temp\\ipykernel_3968\\1627016959.py:13: UserWarning: Ignoring `palette` because no `hue` variable has been assigned.\n",
      "  sns.lineplot(data=df, x='x', y='y_pred (CG)', palette='green')\n",
      "C:\\Users\\C15TQK\\AppData\\Local\\Temp\\ipykernel_3968\\1627016959.py:14: UserWarning: Ignoring `palette` because no `hue` variable has been assigned.\n",
      "  sns.lineplot(data=df, x='x', y='y_pred (GD)', palette='red')\n"
     ]
    },
    {
     "data": {
      "text/plain": [
       "<Axes: xlabel='x', ylabel='y'>"
      ]
     },
     "execution_count": 141,
     "metadata": {},
     "output_type": "execute_result"
    },
    {
     "data": {
      "image/png": "[encoded data removed]",
      "text/plain": [
       "<Figure size 640x480 with 1 Axes>"
      ]
     },
     "metadata": {},
     "output_type": "display_data"
    }
   ],
   "source": [
    "import pandas as pd\n",
    "import seaborn as sns\n",
    "sns.set_theme(style='ticks')\n",
    "\n",
    "df = torch.stack( \\\n",
    "    (x.reshape(-1), y.reshape(-1), y_pred.reshape(-1), y_pred_2.reshape(-1)) \\\n",
    "        ).t().numpy()\n",
    "df = pd.DataFrame(df, columns=['x', 'y', 'y_pred (CG)', 'y_pred (GD)'])\n",
    "\n",
    "print(df.head())\n",
    "\n",
    "sns.lineplot(data=df, x='x', y='y', palette='blue')\n",
    "sns.lineplot(data=df, x='x', y='y_pred (CG)', palette='green')\n",
    "sns.lineplot(data=df, x='x', y='y_pred (GD)', palette='red')"
   ]
  },
  {
   "attachments": {},
   "cell_type": "markdown",
   "metadata": {},
   "source": [
    "The blue curve and the red curve represent values of $\\sin x$ and predicted values using the polynomial, respectively."
   ]
  }
 ],
 "metadata": {
  "kernelspec": {
   "display_name": "Python 3",
   "language": "python",
   "name": "python3"
  },
  "language_info": {
   "codemirror_mode": {
    "name": "ipython",
    "version": 3
   },
   "file_extension": ".py",
   "mimetype": "text/x-python",
   "name": "python",
   "nbconvert_exporter": "python",
   "pygments_lexer": "ipython3",
   "version": "3.10.10"
  },
  "orig_nbformat": 4
 },
 "nbformat": 4,
 "nbformat_minor": 2
}
