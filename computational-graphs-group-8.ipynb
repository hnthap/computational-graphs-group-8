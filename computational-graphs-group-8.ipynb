{
 "cells": [
  {
   "attachments": {},
   "cell_type": "markdown",
   "metadata": {},
   "source": [
    "# Computational Graphs &mdash; A Demo Application"
   ]
  },
  {
   "cell_type": "code",
   "execution_count": 1,
   "metadata": {},
   "outputs": [],
   "source": [
    "import torch\n",
    "import math"
   ]
  },
  {
   "cell_type": "code",
   "execution_count": 38,
   "metadata": {},
   "outputs": [
    {
     "name": "stdout",
     "output_type": "stream",
     "text": [
      "Current device: cpu\n"
     ]
    }
   ],
   "source": [
    "dtype = torch.float\n",
    "\n",
    "device = torch.device('cuda' if torch.cuda.is_available() else 'cpu')\n",
    "print('Current device:', device)\n",
    "if device.type == 'cuda':\n",
    "    print('Current device name:', torch.cuda.get_device_name())\n",
    "    print('CUDA device count:', torch.cuda.device_count())"
   ]
  },
  {
   "cell_type": "code",
   "execution_count": 7,
   "metadata": {},
   "outputs": [],
   "source": [
    "# Some parts are based on \n",
    "# https://stackoverflow.com/questions/75610911/how-to-use-mermaid-diagram-in-jupyter-notebook-with-mermaid-ink-through-proxy\n",
    "\n",
    "import base64\n",
    "from IPython.display import Image, display\n",
    "import matplotlib.pyplot as plt\n",
    "\n",
    "def mermaid(graph: str):\n",
    "    graph_bytes = graph.encode(\"ascii\")\n",
    "    base64_bytes = base64.b64encode(graph_bytes)\n",
    "    base64_string = base64_bytes.decode(\"ascii\")\n",
    "    display(Image(url=\"https://mermaid.ink/img/\" + base64_string))"
   ]
  },
  {
   "attachments": {},
   "cell_type": "markdown",
   "metadata": {},
   "source": [
    "## $\\sin x$"
   ]
  },
  {
   "attachments": {},
   "cell_type": "markdown",
   "metadata": {},
   "source": [
    "### Computational Graph"
   ]
  },
  {
   "attachments": {},
   "cell_type": "markdown",
   "metadata": {},
   "source": [
    "We will fit $y = \\sin x$, where $x \\in [0, \\pi / 2]$, with the quadratic polynomial $y = a + bx + cx^2$. There will be three parameters $a$, $b$, $c$ trained with gradient descent.\n",
    "\n",
    "Let $a$, $b$, $c$ are weights as scalars; <br/>\n",
    "$\\textrm{x}$ is a vector of a finite number of values of $x \\in [0, \\pi / 2]$; <br/>\n",
    "$\\textrm{y}$ is a vector that has the same size as $\\textrm{x}$, and $y_i = \\sin x_i$ ($y_i$ is the $i$-th element of $\\textrm{y}$); <br/>\n",
    "$\\textrm{t}$ is a vector that has the same size as $\\textrm{x}$, and $t_i = x_i^2$ ($t_i$ is the $i$-th element of $\\textrm{t}$); <br/>\n",
    "$\\textrm{j}$ is a vector that has the same size as $\\textrm{x}$, and $j_i = 1$ ($j_i$ is the $i$-th element of $\\textrm{j}$); <br/>\n",
    "we have\n",
    "\n",
    "$$\\textrm{y}_{pred} = a\\;\\textrm{j} + b\\;\\textrm{x} + c\\;\\textrm{t}\\;, \\quad \n",
    "J = (\\textrm{y}_{pred} - \\textrm{y})^\\top (\\textrm{y}_{pred} - \\textrm{y})$$\n",
    "\n",
    "and\n",
    "$$\\frac{\\partial{J}}{\\partial{\\textrm{y}_{pred}}} = 2 (\\textrm{y}_{pred} - \\textrm{y})^\\top\\;, \\quad\n",
    "\\frac{\\partial{\\textrm{y}_{pred}}}{\\partial{a}} = \\textrm{j}\\;, \\quad \n",
    "\\frac{\\partial{\\textrm{y}_{pred}}}{\\partial{b}} = \\textrm{x}\\;, \\quad \n",
    "\\frac{\\partial{\\textrm{y}_{pred}}}{\\partial{c}} = \\textrm{t}\\;.$$"
   ]
  },
  {
   "cell_type": "code",
   "execution_count": 40,
   "metadata": {},
   "outputs": [
    {
     "data": {
      "text/html": [
       "<img src=\"https://mermaid.ink/img/Z3JhcGggVEQ7CiAgICB4IC0tPiB0OwogICAgeCAtLT4geV9wcmVkOwogICAgdCAtLT4geV9wcmVkOwogICAgYSAtLT4geV9wcmVkOwogICAgYiAtLT4geV9wcmVkOwogICAgYyAtLT4geV9wcmVkOwogICAgeV9wcmVkIC0tPiBKOwogICAgeSAtLT4gSjsK\"/>"
      ],
      "text/plain": [
       "<IPython.core.display.Image object>"
      ]
     },
     "metadata": {},
     "output_type": "display_data"
    }
   ],
   "source": [
    "mermaid(\"\"\"graph TD;\n",
    "    x --> t;\n",
    "    x --> y_pred;\n",
    "    t --> y_pred;\n",
    "    a --> y_pred;\n",
    "    b --> y_pred;\n",
    "    c --> y_pred;\n",
    "    y_pred --> J;\n",
    "    y --> J;\n",
    "\"\"\")"
   ]
  },
  {
   "cell_type": "code",
   "execution_count": null,
   "metadata": {},
   "outputs": [],
   "source": []
  },
  {
   "attachments": {},
   "cell_type": "markdown",
   "metadata": {},
   "source": [
    "### Gradient Descent"
   ]
  },
  {
   "attachments": {},
   "cell_type": "markdown",
   "metadata": {},
   "source": [
    "\n",
    "This is what the math looks like if we just use gradient descent:\n",
    "$$y_{pred} = a + bx + cx^2$$\n",
    "$$J = \\sum_{x} {(y_{pred} - y)^2}$$\n",
    "$$\\frac{\\partial{J}}{\\partial{a}} = 2 \\sum_{x} (y_{pred} - y) \\;\\frac{\\partial{}}{\\partial{a}}(a + bx + cx^2 - y) = 2 \\sum_{x} (y_{pred} - y)$$\n",
    "$$\\frac{\\partial{J}}{\\partial{b}} = 2 \\sum_{x} (y_{pred} - y) \\;\\frac{\\partial{}}{\\partial{b}}(a + bx + cx^2 - y) = 2 \\sum_{x} (y_{pred} - y)x$$\n",
    "$$\\frac{\\partial{J}}{\\partial{c}} = 2 \\sum_{x} (y_{pred} - y) \\;\\frac{\\partial{}}{\\partial{c}}(a + bx + cx^2 - y) = 2 \\sum_{x} (y_{pred} - y)x^2$$"
   ]
  },
  {
   "cell_type": "code",
   "execution_count": 39,
   "metadata": {},
   "outputs": [
    {
     "name": "stdout",
     "output_type": "stream",
     "text": [
      "Iter. 99: loss = 25.6257\n",
      "Iter. 199: loss = 12.6233\n",
      "Iter. 299: loss = 6.2547\n",
      "Iter. 399: loss = 3.1354\n",
      "Iter. 499: loss = 1.6076\n",
      "Iter. 599: loss = 0.8593\n",
      "Iter. 699: loss = 0.4928\n",
      "Iter. 799: loss = 0.3133\n",
      "Iter. 899: loss = 0.2253\n",
      "Iter. 999: loss = 0.1823\n",
      "Iter. 1099: loss = 0.1612\n",
      "Iter. 1199: loss = 0.1508\n",
      "Iter. 1299: loss = 0.1458\n",
      "Iter. 1399: loss = 0.1433\n",
      "Iter. 1499: loss = 0.1421\n",
      "Iter. 1599: loss = 0.1415\n",
      "Iter. 1699: loss = 0.1412\n",
      "Iter. 1799: loss = 0.1411\n",
      "Iter. 1899: loss = 0.141\n",
      "Iter. 1999: loss = 0.141\n",
      "Result: y = -0.02395627833902836 + 1.194555401802063 x + -0.33754727244377136 x^2\n"
     ]
    }
   ],
   "source": [
    "# Some parts are based on https://pytorch.org/tutorials/beginner/pytorch_with_examples.html\n",
    "\n",
    "# Create random input and output data\n",
    "x = torch.linspace(0, math.pi / 2, 2000, \\\n",
    "                   dtype=dtype, device=device)\n",
    "x_indices = torch.randperm(2000, device=device)\n",
    "x = x[x_indices]\n",
    "\n",
    "y = torch.sin(x)\n",
    "\n",
    "# Initialize weights\n",
    "a = torch.randn((), dtype=dtype, device=device)\n",
    "b = torch.randn((), dtype=dtype, device=device)\n",
    "c = torch.randn((), dtype=dtype, device=device)\n",
    "\n",
    "learning_rate = 1e-4\n",
    "for iter in range(2000):    \n",
    "    \n",
    "    # Forward pass: compute predicted y\n",
    "    y_pred = a + b * x + c * x ** 2\n",
    "\n",
    "    # Compute and print loss\n",
    "    loss = (y_pred - y).pow(2).sum().item()\n",
    "    if iter % 100 == 99:\n",
    "        print(f'Iter. {iter}: loss = {round(loss, 4)}')\n",
    "    \n",
    "    # Backpropagation to compute gradients of a, b, c with respect to loss\n",
    "    grad_loss = 2.0 * (y_pred - y)\n",
    "    grad_a = grad_loss.sum()\n",
    "    grad_b = (grad_loss * x).sum()\n",
    "    grad_c = (grad_loss * x ** 2).sum()\n",
    "\n",
    "    # Update weights using gradient descent\n",
    "    a -= learning_rate * grad_a\n",
    "    b -= learning_rate * grad_b\n",
    "    c -= learning_rate * grad_c\n",
    "\n",
    "print(f'Result: y = {a.item()} + {b.item()} x + {c.item()} x^2')\n"
   ]
  },
  {
   "cell_type": "code",
   "execution_count": 37,
   "metadata": {},
   "outputs": [
    {
     "name": "stdout",
     "output_type": "stream",
     "text": [
      "          x         y    y_pred\n",
      "0  0.689925  0.636479  0.639604\n",
      "1  0.578342  0.546637  0.554062\n",
      "2  0.008644  0.008644 -0.013856\n",
      "3  1.441141  0.991606  0.996446\n",
      "4  0.840796  0.745174  0.741883\n"
     ]
    },
    {
     "name": "stderr",
     "output_type": "stream",
     "text": [
      "C:\\Users\\C15TQK\\AppData\\Local\\Temp\\ipykernel_3156\\3346467456.py:10: UserWarning: Ignoring `palette` because no `hue` variable has been assigned.\n",
      "  sns.lineplot(\n",
      "C:\\Users\\C15TQK\\AppData\\Local\\Temp\\ipykernel_3156\\3346467456.py:15: UserWarning: Ignoring `palette` because no `hue` variable has been assigned.\n",
      "  sns.lineplot(\n"
     ]
    },
    {
     "data": {
      "text/plain": [
       "<Axes: xlabel='x', ylabel='y'>"
      ]
     },
     "execution_count": 37,
     "metadata": {},
     "output_type": "execute_result"
    },
    {
     "data": {
      "image/png": "[encoded data removed]",
      "text/plain": [
       "<Figure size 640x480 with 1 Axes>"
      ]
     },
     "metadata": {},
     "output_type": "display_data"
    }
   ],
   "source": [
    "import pandas as pd\n",
    "import seaborn as sns\n",
    "sns.set_theme(style='ticks')\n",
    "\n",
    "df = torch.stack((x, y, y_pred)).t().numpy()\n",
    "df = pd.DataFrame(df, columns=['x', 'y', 'y_pred'])\n",
    "\n",
    "print(df.head())\n",
    "\n",
    "sns.lineplot(\n",
    "    data=df, x='x', y='y',\n",
    "    palette='blue'\n",
    ")\n",
    "\n",
    "sns.lineplot(\n",
    "    data=df, x='x', y='y_pred',\n",
    "    palette='red'\n",
    ")"
   ]
  },
  {
   "attachments": {},
   "cell_type": "markdown",
   "metadata": {},
   "source": [
    "The blue curve and the red curve represent values of $\\sin x$ and predicted values using the polynomial, respectively."
   ]
  }
 ],
 "metadata": {
  "kernelspec": {
   "display_name": "Python 3",
   "language": "python",
   "name": "python3"
  },
  "language_info": {
   "codemirror_mode": {
    "name": "ipython",
    "version": 3
   },
   "file_extension": ".py",
   "mimetype": "text/x-python",
   "name": "python",
   "nbconvert_exporter": "python",
   "pygments_lexer": "ipython3",
   "version": "3.10.10"
  },
  "orig_nbformat": 4
 },
 "nbformat": 4,
 "nbformat_minor": 2
}
