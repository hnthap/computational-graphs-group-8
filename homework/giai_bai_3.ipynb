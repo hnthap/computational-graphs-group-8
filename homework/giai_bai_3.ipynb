{
 "cells": [
  {
   "cell_type": "code",
   "execution_count": 1,
   "metadata": {},
   "outputs": [],
   "source": [
    "import torch"
   ]
  },
  {
   "cell_type": "code",
   "execution_count": 2,
   "metadata": {},
   "outputs": [
    {
     "name": "stdout",
     "output_type": "stream",
     "text": [
      "y = 42.0\n"
     ]
    }
   ],
   "source": [
    "x = torch.tensor(5.0, requires_grad=True)\n",
    "y = x ** 2 + 3 * x + 2\n",
    "\n",
    "print('y = {}'.format(y))"
   ]
  },
  {
   "cell_type": "code",
   "execution_count": 3,
   "metadata": {},
   "outputs": [
    {
     "name": "stdout",
     "output_type": "stream",
     "text": [
      "\tx\tdy/dx\n",
      "\t1.0\t5.0\n",
      "\t2.0\t7.0\n",
      "\t3.0\t9.0\n",
      "\t4.0\t11.0\n",
      "\t5.0\t13.0\n",
      "\t6.0\t15.0\n",
      "\t7.0\t17.0\n",
      "\t8.0\t19.0\n",
      "\t9.0\t21.0\n",
      "\t10.0\t23.0\n",
      "\t11.0\t25.0\n",
      "\t12.0\t27.0\n",
      "\t13.0\t29.0\n",
      "\t14.0\t31.0\n",
      "\t15.0\t33.0\n"
     ]
    }
   ],
   "source": [
    "print('\\tx\\tdy/dx')\n",
    "\n",
    "for x in range(1, 16):\n",
    "    \n",
    "    x = torch.tensor(x, dtype=torch.float, requires_grad=True)\n",
    "    y = x ** 2 + 3 * x + 2\n",
    "\n",
    "    x.grad = None\n",
    "    y.backward()\n",
    "\n",
    "    print('\\t{}\\t{}'.format(x.item(), x.grad.item()))"
   ]
  }
 ],
 "metadata": {
  "kernelspec": {
   "display_name": "Python 3",
   "language": "python",
   "name": "python3"
  },
  "language_info": {
   "codemirror_mode": {
    "name": "ipython",
    "version": 3
   },
   "file_extension": ".py",
   "mimetype": "text/x-python",
   "name": "python",
   "nbconvert_exporter": "python",
   "pygments_lexer": "ipython3",
   "version": "3.10.11"
  },
  "orig_nbformat": 4
 },
 "nbformat": 4,
 "nbformat_minor": 2
}
